{
 "cells": [
  {
   "cell_type": "code",
   "execution_count": 42,
   "metadata": {
    "collapsed": true
   },
   "outputs": [],
   "source": [
    "# jimgray: http://localhost:11002/notebooks/etc/githubRepos.ipynb\n",
    "# based on this http://stackoverflow.com/questions/8713596/how-to-retrieve-the-list-of-all-github-repositories-of-a-person\n",
    "\n",
    "import urllib2\n",
    "import base64\n",
    "import json\n",
    "\n",
    "USER='icsabai'\n",
    "API_TOKEN='XXXX_getApiTokenFromGithub_User_Settings_Personal_Access_Tokens_XXXX'\n",
    "GIT_API_URL='https://api.github.com'\n",
    "\n",
    "def get_api(url):\n",
    "    try:\n",
    "        request = urllib2.Request(GIT_API_URL + url)\n",
    "        base64string = base64.encodestring('%s/token:%s' % (USER, API_TOKEN)).replace('\\n', '')\n",
    "        request.add_header(\"Authorization\", \"Basic %s\" % base64string)\n",
    "        result = urllib2.urlopen(request)\n",
    "        return result.read()\n",
    "        result.close()\n",
    "    except:\n",
    "        print 'Failed to get api request from %s' % url"
   ]
  },
  {
   "cell_type": "code",
   "execution_count": 43,
   "metadata": {
    "collapsed": false
   },
   "outputs": [],
   "source": [
    "dummy = get_api(\"/user/repos\")"
   ]
  },
  {
   "cell_type": "code",
   "execution_count": 64,
   "metadata": {
    "collapsed": false
   },
   "outputs": [],
   "source": [
    "data = json.loads(dummy)\n"
   ]
  },
  {
   "cell_type": "code",
   "execution_count": 63,
   "metadata": {
    "collapsed": false
   },
   "outputs": [
    {
     "name": "stdout",
     "output_type": "stream",
     "text": [
      "<li> <a href=\"https://github.com/bokae/komplexszim\"> bokae/komplexszim</a>\n",
      "<li> <a href=\"https://github.com/EBI-COMMUNITY/wigner-H5N8-processing\"> EBI-COMMUNITY/wigner-H5N8-processing</a>\n",
      "<li> <a href=\"https://github.com/icsabai/AMR\"> AMR</a>\n",
      "<li> <a href=\"https://github.com/icsabai/asianWomenLungCancer\"> asianWomenLungCancer</a>\n",
      "<li> <a href=\"https://github.com/icsabai/AvERA\"> AvERA</a>\n",
      "<li> <a href=\"https://github.com/icsabai/CAUSEL\"> CAUSEL</a>\n",
      "<li> <a href=\"https://github.com/icsabai/CDR3var\"> CDR3var</a>\n",
      "<li> <a href=\"https://github.com/icsabai/COMPARE\"> COMPARE</a>\n",
      "<li> <a href=\"https://github.com/icsabai/drinkOfEternalYouth\"> drinkOfEternalYouth</a>\n",
      "<li> <a href=\"https://github.com/icsabai/encodeChallenge\"> encodeChallenge</a>\n",
      "<li> <a href=\"https://github.com/icsabai/etcBiology\"> etcBiology</a>\n",
      "<li> <a href=\"https://github.com/icsabai/gendersGit\"> gendersGit</a>\n",
      "<li> <a href=\"https://github.com/icsabai/globalSewage\"> globalSewage</a>\n",
      "<li> <a href=\"https://github.com/icsabai/Graphular-Automaton\"> Graphular-Automaton</a>\n",
      "<li> <a href=\"https://github.com/icsabai/gRNAdesign\"> gRNAdesign</a>\n",
      "<li> <a href=\"https://github.com/icsabai/huckelCode\"> huckelCode</a>\n",
      "<li> <a href=\"https://github.com/icsabai/icsabai.github.io\"> icsabai.github.io</a>\n",
      "<li> <a href=\"https://github.com/icsabai/irx4Reloaded\"> irx4Reloaded</a>\n",
      "<li> <a href=\"https://github.com/icsabai/komplexszim\"> komplexszim</a>\n",
      "<li> <a href=\"https://github.com/icsabai/mesothelioma\"> mesothelioma</a>\n",
      "<li> <a href=\"https://github.com/icsabai/myMigraine\"> myMigraine</a>\n",
      "<li> <a href=\"https://github.com/icsabai/quantumBio\"> quantumBio</a>\n",
      "<li> <a href=\"https://github.com/icsabai/renalCCnovo\"> renalCCnovo</a>\n",
      "<li> <a href=\"https://github.com/icsabai/simulationsMsc\"> simulationsMsc</a>\n",
      "<li> <a href=\"https://github.com/icsabai/singleCell\"> singleCell</a>\n",
      "<li> <a href=\"https://github.com/icsabai/tcgaExpression\"> tcgaExpression</a>\n",
      "<li> <a href=\"https://github.com/icsabai/Tesaro\"> Tesaro</a>\n",
      "<li> <a href=\"https://github.com/icsabai/TNBC_cell_lines\"> TNBC_cell_lines</a>\n",
      "<li> <a href=\"https://github.com/icsabai/tumorEvolution\"> tumorEvolution</a>\n",
      "<li> <a href=\"https://github.com/icsabai/younglung\"> younglung</a>\n"
     ]
    }
   ],
   "source": [
    "# paste this to https://github.com/icsabai/icsabai.github.io/blob/master/myrepos.html\n",
    "for x in data:\n",
    "    for attribute, value in x.iteritems():\n",
    "        #if True:\n",
    "        if attribute == 'full_name' :\n",
    "            n = value.replace(\"icsabai/\",\"\")\n",
    "        if attribute == 'html_url' :\n",
    "            print '<li> <a href=\"'+value+'\"> '+n+'</a>' # example usage"
   ]
  }
 ],
 "metadata": {
  "kernelspec": {
   "display_name": "Python 2",
   "language": "python",
   "name": "python2"
  },
  "language_info": {
   "codemirror_mode": {
    "name": "ipython",
    "version": 2
   },
   "file_extension": ".py",
   "mimetype": "text/x-python",
   "name": "python",
   "nbconvert_exporter": "python",
   "pygments_lexer": "ipython2",
   "version": "2.7.9"
  }
 },
 "nbformat": 4,
 "nbformat_minor": 0
}
